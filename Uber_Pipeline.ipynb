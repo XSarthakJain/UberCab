{
 "cells": [
  {
   "cell_type": "code",
   "execution_count": 1,
   "id": "3de47eb2",
   "metadata": {},
   "outputs": [],
   "source": [
    "import findspark\n",
    "findspark.init()\n",
    "from pyspark.sql import SparkSession"
   ]
  },
  {
   "cell_type": "code",
   "execution_count": 2,
   "id": "5b7fe3b2",
   "metadata": {},
   "outputs": [],
   "source": [
    "spark = SparkSession.builder.master('local').appName('Uber_DB').config(\"spark.driver.memory\", \"15g\").config(\"spark.mongodb.read.connection.uri\", \"mongodb://localhost:27017/ETL\").config(\"spark.mongodb.write.connection.uri\", \"mongodb://localhost:27017/ETL\").config('spark.jars.packages', 'org.mongodb.spark:mongo-spark-connector:10.0.2').getOrCreate()"
   ]
  },
  {
   "cell_type": "code",
   "execution_count": 3,
   "id": "7bf4c510",
   "metadata": {},
   "outputs": [],
   "source": [
    "df = spark.read.format('mongodb').option('uri','mongodb://localhost:27017/ETL').option('database','ETL').option('collection','UBER').option('header',True).load()"
   ]
  },
  {
   "cell_type": "code",
   "execution_count": 93,
   "id": "fc0960f4",
   "metadata": {},
   "outputs": [],
   "source": [
    "def findDate(val):\n",
    "    dt = val.split(\" \")\n",
    "    correct_date = dt[0].replace('-','/',2)\n",
    "    return correct_date\n",
    "def findTime(val):\n",
    "    dt = val.split(\" \")\n",
    "    correct_time = dt[1].split(\":\")\n",
    "    return correct_time[0]"
   ]
  },
  {
   "cell_type": "code",
   "execution_count": 94,
   "id": "1639006e",
   "metadata": {},
   "outputs": [],
   "source": [
    "today = '11/7/2016' #date.today()"
   ]
  },
  {
   "cell_type": "code",
   "execution_count": 95,
   "id": "de229e02",
   "metadata": {},
   "outputs": [
    {
     "name": "stdout",
     "output_type": "stream",
     "text": [
      "+---------+------------+----------+-------------------+--------------+--------------------+\n",
      "|Driver id|Pickup point|Request id|  Request timestamp|        Status|                 _id|\n",
      "+---------+------------+----------+-------------------+--------------+--------------------+\n",
      "|        1|     Airport|       619|    11/7/2016 11:51|Trip Completed|64987d005947eb5c0...|\n",
      "|        1|     Airport|       867|    11/7/2016 17:57|Trip Completed|64987d005947eb5c0...|\n",
      "|        1|        City|      1807|     12/7/2016 9:17|Trip Completed|64987d005947eb5c0...|\n",
      "|        1|     Airport|      2532|    12/7/2016 21:08|Trip Completed|64987d005947eb5c0...|\n",
      "|        1|        City|      3112|13-07-2016 08:33:16|Trip Completed|64987d005947eb5c0...|\n",
      "|        1|     Airport|      3879|13-07-2016 21:57:28|Trip Completed|64987d005947eb5c0...|\n",
      "|        1|     Airport|      4270|14-07-2016 06:15:32|Trip Completed|64987d005947eb5c0...|\n",
      "|        1|     Airport|      5510|15-07-2016 05:11:52|Trip Completed|64987d005947eb5c0...|\n",
      "|        1|        City|      6248|15-07-2016 17:57:27|Trip Completed|64987d005947eb5c0...|\n",
      "|        2|        City|       267|     11/7/2016 6:46|Trip Completed|64987d005947eb5c0...|\n",
      "|        2|     Airport|      1467|     12/7/2016 5:08|Trip Completed|64987d005947eb5c0...|\n",
      "|        2|        City|      1983|    12/7/2016 12:30|Trip Completed|64987d005947eb5c0...|\n",
      "|        2|     Airport|      2784|13-07-2016 04:49:20|Trip Completed|64987d005947eb5c0...|\n",
      "|        2|        City|      3075|13-07-2016 08:02:53|Trip Completed|64987d005947eb5c0...|\n",
      "|        2|        City|      3379|13-07-2016 14:23:02|Trip Completed|64987d005947eb5c0...|\n",
      "|        2|     Airport|      3482|13-07-2016 17:23:18|Trip Completed|64987d005947eb5c0...|\n",
      "|        2|        City|      4652|14-07-2016 12:01:02|Trip Completed|64987d005947eb5c0...|\n",
      "|        2|     Airport|      5335|14-07-2016 22:24:13|Trip Completed|64987d005947eb5c0...|\n",
      "|        3|     Airport|       535|    11/7/2016 10:00|Trip Completed|64987d005947eb5c0...|\n",
      "|        3|     Airport|       960|    11/7/2016 18:45|Trip Completed|64987d005947eb5c0...|\n",
      "+---------+------------+----------+-------------------+--------------+--------------------+\n",
      "only showing top 20 rows\n",
      "\n"
     ]
    }
   ],
   "source": [
    "from pyspark.sql.functions import *\n",
    "df.show()"
   ]
  },
  {
   "cell_type": "code",
   "execution_count": 96,
   "id": "f8c4f6d4",
   "metadata": {},
   "outputs": [
    {
     "name": "stdout",
     "output_type": "stream",
     "text": [
      "root\n",
      " |-- Driver id: string (nullable = true)\n",
      " |-- Pickup point: string (nullable = true)\n",
      " |-- Request id: integer (nullable = true)\n",
      " |-- Request timestamp: string (nullable = true)\n",
      " |-- Status: string (nullable = true)\n",
      " |-- _id: string (nullable = true)\n",
      "\n"
     ]
    }
   ],
   "source": [
    "df.printSchema()\n",
    "from pyspark.sql.types import StringType\n",
    "transform_date = udf(findDate)\n",
    "transform_time = udf(findTime)\n"
   ]
  },
  {
   "cell_type": "code",
   "execution_count": 109,
   "id": "b3f5caae",
   "metadata": {},
   "outputs": [],
   "source": [
    "final_df = df.filter(transform_date(col('Request timestamp'))==today).groupBy([col('Status'),transform_date(col('Request timestamp'))]).agg(max(transform_time(col('Request timestamp'))),count(col(\"Status\")))"
   ]
  },
  {
   "cell_type": "code",
   "execution_count": 110,
   "id": "4008296b",
   "metadata": {},
   "outputs": [
    {
     "name": "stdout",
     "output_type": "stream",
     "text": [
      "+-----------------+---------------------------+--------------------------------+-------------+\n",
      "|           Status|findDate(Request timestamp)|max(findTime(Request timestamp))|count(Status)|\n",
      "+-----------------+---------------------------+--------------------------------+-------------+\n",
      "|        Cancelled|                  11/7/2016|                               9|          262|\n",
      "|No Cars Available|                  11/7/2016|                               9|          504|\n",
      "|   Trip Completed|                  11/7/2016|                               9|          601|\n",
      "+-----------------+---------------------------+--------------------------------+-------------+\n",
      "\n"
     ]
    }
   ],
   "source": [
    "final_df.show()"
   ]
  },
  {
   "cell_type": "code",
   "execution_count": 108,
   "id": "6a7393bb",
   "metadata": {},
   "outputs": [
    {
     "name": "stdout",
     "output_type": "stream",
     "text": [
      "+-----------------+---------------------------+-----+\n",
      "|           Status|findTime(Request timestamp)|count|\n",
      "+-----------------+---------------------------+-----+\n",
      "|   Trip Completed|                         10|   19|\n",
      "|        Cancelled|                         11|    1|\n",
      "|        Cancelled|                         20|   11|\n",
      "|   Trip Completed|                         13|   18|\n",
      "|        Cancelled|                          4|    9|\n",
      "|   Trip Completed|                         20|   31|\n",
      "|        Cancelled|                         10|   17|\n",
      "|        Cancelled|                         12|    4|\n",
      "|No Cars Available|                          9|   23|\n",
      "|   Trip Completed|                         18|   32|\n",
      "|No Cars Available|                         12|    7|\n",
      "|   Trip Completed|                         15|   21|\n",
      "|   Trip Completed|                         12|   36|\n",
      "|No Cars Available|                          3|   10|\n",
      "|   Trip Completed|                         19|   38|\n",
      "|        Cancelled|                         13|    3|\n",
      "|No Cars Available|                         19|   54|\n",
      "|        Cancelled|                         16|    4|\n",
      "|No Cars Available|                         16|   11|\n",
      "|   Trip Completed|                          8|   29|\n",
      "|   Trip Completed|                          4|   15|\n",
      "|   Trip Completed|                          0|    7|\n",
      "|   Trip Completed|                          5|   37|\n",
      "|        Cancelled|                         19|    4|\n",
      "|No Cars Available|                         17|   44|\n",
      "|   Trip Completed|                         11|   29|\n",
      "|        Cancelled|                         17|    6|\n",
      "|        Cancelled|                          0|    1|\n",
      "|No Cars Available|                          0|    8|\n",
      "|   Trip Completed|                         22|   37|\n",
      "|        Cancelled|                          7|   37|\n",
      "|   Trip Completed|                         21|   25|\n",
      "|   Trip Completed|                          6|   38|\n",
      "|        Cancelled|                          6|   32|\n",
      "|No Cars Available|                          6|   17|\n",
      "|No Cars Available|                         10|    7|\n",
      "|   Trip Completed|                          2|    5|\n",
      "|No Cars Available|                         18|   70|\n",
      "|        Cancelled|                         22|    3|\n",
      "|   Trip Completed|                         16|   25|\n",
      "|No Cars Available|                          5|   18|\n",
      "|   Trip Completed|                         17|   33|\n",
      "|No Cars Available|                          7|   10|\n",
      "|No Cars Available|                         13|   11|\n",
      "|No Cars Available|                         15|    3|\n",
      "|No Cars Available|                         22|   20|\n",
      "|No Cars Available|                         11|    9|\n",
      "|        Cancelled|                         23|    2|\n",
      "|No Cars Available|                         23|   17|\n",
      "|        Cancelled|                         18|    4|\n",
      "|No Cars Available|                          8|   14|\n",
      "|        Cancelled|                         21|   10|\n",
      "|        Cancelled|                          5|   40|\n",
      "|        Cancelled|                          1|    1|\n",
      "|No Cars Available|                         14|    5|\n",
      "|No Cars Available|                          2|    9|\n",
      "|   Trip Completed|                          9|   47|\n",
      "|        Cancelled|                          8|   38|\n",
      "|   Trip Completed|                          3|    7|\n",
      "|   Trip Completed|                         23|   21|\n",
      "|No Cars Available|                          1|   14|\n",
      "|No Cars Available|                          4|   15|\n",
      "|        Cancelled|                          9|   28|\n",
      "|No Cars Available|                         21|   50|\n",
      "|   Trip Completed|                         14|   19|\n",
      "|   Trip Completed|                          1|    3|\n",
      "|   Trip Completed|                          7|   29|\n",
      "|        Cancelled|                         14|    2|\n",
      "|No Cars Available|                         20|   58|\n",
      "|        Cancelled|                         15|    5|\n",
      "+-----------------+---------------------------+-----+\n",
      "\n"
     ]
    }
   ],
   "source": [
    "df.filter(transform_date(col('Request timestamp'))==today).groupBy([col(\"Status\"),transform_time(col('Request timestamp'))]).count().show(100)"
   ]
  },
  {
   "cell_type": "code",
   "execution_count": null,
   "id": "c350552b",
   "metadata": {
    "scrolled": true
   },
   "outputs": [],
   "source": []
  },
  {
   "cell_type": "code",
   "execution_count": null,
   "id": "f9402160",
   "metadata": {},
   "outputs": [],
   "source": []
  }
 ],
 "metadata": {
  "kernelspec": {
   "display_name": "Python 3 (ipykernel)",
   "language": "python",
   "name": "python3"
  },
  "language_info": {
   "codemirror_mode": {
    "name": "ipython",
    "version": 3
   },
   "file_extension": ".py",
   "mimetype": "text/x-python",
   "name": "python",
   "nbconvert_exporter": "python",
   "pygments_lexer": "ipython3",
   "version": "3.10.9"
  }
 },
 "nbformat": 4,
 "nbformat_minor": 5
}
