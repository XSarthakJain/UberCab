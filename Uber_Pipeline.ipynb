{
 "cells": [
  {
   "cell_type": "code",
   "execution_count": 1,
   "id": "3de47eb2",
   "metadata": {},
   "outputs": [],
   "source": [
    "import findspark\n",
    "findspark.init()\n",
    "from pyspark.sql import SparkSession"
   ]
  },
  {
   "cell_type": "code",
   "execution_count": 2,
   "id": "5b7fe3b2",
   "metadata": {},
   "outputs": [],
   "source": [
    "spark = SparkSession.builder.master('local').appName('Uber_DB').config(\"spark.driver.memory\", \"15g\").config(\"spark.mongodb.read.connection.uri\", \"mongodb://localhost:27017/ETL\").config(\"spark.mongodb.write.connection.uri\", \"mongodb://localhost:27017/ETL\").config('spark.jars.packages', 'org.mongodb.spark:mongo-spark-connector:10.0.2').getOrCreate()"
   ]
  },
  {
   "cell_type": "code",
   "execution_count": 3,
   "id": "7bf4c510",
   "metadata": {},
   "outputs": [],
   "source": [
    "df = spark.read.format('mongodb').option('uri','mongodb://localhost:27017/ETL').option('database','ETL').option('collection','UBER').option('header',True).load()"
   ]
  },
  {
   "cell_type": "code",
   "execution_count": 4,
   "id": "fc0960f4",
   "metadata": {},
   "outputs": [],
   "source": [
    "def findDate(val):\n",
    "    dt = val.split(\" \")\n",
    "    correct_date = dt[0].replace('-','/',2)\n",
    "    return correct_date\n",
    "def findTime(val):\n",
    "    dt = val.split(\" \")\n",
    "    correct_time = dt[1].split(\":\")\n",
    "    return correct_time[0]"
   ]
  },
  {
   "cell_type": "code",
   "execution_count": 5,
   "id": "1639006e",
   "metadata": {},
   "outputs": [],
   "source": [
    "today = '11/7/2016' #date.today()"
   ]
  },
  {
   "cell_type": "code",
   "execution_count": 6,
   "id": "de229e02",
   "metadata": {},
   "outputs": [
    {
     "name": "stdout",
     "output_type": "stream",
     "text": [
      "+---------+------------+----------+-------------------+--------------+--------------------+\n",
      "|Driver id|Pickup point|Request id|  Request timestamp|        Status|                 _id|\n",
      "+---------+------------+----------+-------------------+--------------+--------------------+\n",
      "|        1|     Airport|       619|    11/7/2016 11:51|Trip Completed|64987d005947eb5c0...|\n",
      "|        1|     Airport|       867|    11/7/2016 17:57|Trip Completed|64987d005947eb5c0...|\n",
      "|        1|        City|      1807|     12/7/2016 9:17|Trip Completed|64987d005947eb5c0...|\n",
      "|        1|     Airport|      2532|    12/7/2016 21:08|Trip Completed|64987d005947eb5c0...|\n",
      "|        1|        City|      3112|13-07-2016 08:33:16|Trip Completed|64987d005947eb5c0...|\n",
      "|        1|     Airport|      3879|13-07-2016 21:57:28|Trip Completed|64987d005947eb5c0...|\n",
      "|        1|     Airport|      4270|14-07-2016 06:15:32|Trip Completed|64987d005947eb5c0...|\n",
      "|        1|     Airport|      5510|15-07-2016 05:11:52|Trip Completed|64987d005947eb5c0...|\n",
      "|        1|        City|      6248|15-07-2016 17:57:27|Trip Completed|64987d005947eb5c0...|\n",
      "|        2|        City|       267|     11/7/2016 6:46|Trip Completed|64987d005947eb5c0...|\n",
      "|        2|     Airport|      1467|     12/7/2016 5:08|Trip Completed|64987d005947eb5c0...|\n",
      "|        2|        City|      1983|    12/7/2016 12:30|Trip Completed|64987d005947eb5c0...|\n",
      "|        2|     Airport|      2784|13-07-2016 04:49:20|Trip Completed|64987d005947eb5c0...|\n",
      "|        2|        City|      3075|13-07-2016 08:02:53|Trip Completed|64987d005947eb5c0...|\n",
      "|        2|        City|      3379|13-07-2016 14:23:02|Trip Completed|64987d005947eb5c0...|\n",
      "|        2|     Airport|      3482|13-07-2016 17:23:18|Trip Completed|64987d005947eb5c0...|\n",
      "|        2|        City|      4652|14-07-2016 12:01:02|Trip Completed|64987d005947eb5c0...|\n",
      "|        2|     Airport|      5335|14-07-2016 22:24:13|Trip Completed|64987d005947eb5c0...|\n",
      "|        3|     Airport|       535|    11/7/2016 10:00|Trip Completed|64987d005947eb5c0...|\n",
      "|        3|     Airport|       960|    11/7/2016 18:45|Trip Completed|64987d005947eb5c0...|\n",
      "+---------+------------+----------+-------------------+--------------+--------------------+\n",
      "only showing top 20 rows\n",
      "\n"
     ]
    }
   ],
   "source": [
    "from pyspark.sql.functions import *\n",
    "df.show()"
   ]
  },
  {
   "cell_type": "code",
   "execution_count": 7,
   "id": "f8c4f6d4",
   "metadata": {},
   "outputs": [
    {
     "name": "stdout",
     "output_type": "stream",
     "text": [
      "root\n",
      " |-- Driver id: string (nullable = true)\n",
      " |-- Pickup point: string (nullable = true)\n",
      " |-- Request id: integer (nullable = true)\n",
      " |-- Request timestamp: string (nullable = true)\n",
      " |-- Status: string (nullable = true)\n",
      " |-- _id: string (nullable = true)\n",
      "\n"
     ]
    }
   ],
   "source": [
    "df.printSchema()\n",
    "from pyspark.sql.types import StringType\n",
    "transform_date = udf(findDate)\n",
    "transform_time = udf(findTime)\n"
   ]
  },
  {
   "cell_type": "code",
   "execution_count": 8,
   "id": "b3f5caae",
   "metadata": {},
   "outputs": [],
   "source": [
    "final_df = df.filter(transform_date(col('Request timestamp'))==today).groupBy([col('Status'),transform_date(col('Request timestamp'))]).agg(count(col(\"Status\")))"
   ]
  },
  {
   "cell_type": "code",
   "execution_count": 9,
   "id": "4008296b",
   "metadata": {},
   "outputs": [
    {
     "name": "stdout",
     "output_type": "stream",
     "text": [
      "+-----------------+---------------------------+-------------+\n",
      "|           Status|findDate(Request timestamp)|count(Status)|\n",
      "+-----------------+---------------------------+-------------+\n",
      "|        Cancelled|                  11/7/2016|          262|\n",
      "|No Cars Available|                  11/7/2016|          504|\n",
      "|   Trip Completed|                  11/7/2016|          601|\n",
      "+-----------------+---------------------------+-------------+\n",
      "\n"
     ]
    }
   ],
   "source": [
    "final_df.show()"
   ]
  },
  {
   "cell_type": "code",
   "execution_count": 12,
   "id": "6a7393bb",
   "metadata": {},
   "outputs": [],
   "source": [
    "final_df.write.format(\"mongodb\").option(\"uri\",\"mongodb://localhost:27017/ETL\").option(\"database\",\"ETL\").option(\"collection\",\"Uber_FIlter_Data\").mode(\"append\").save()"
   ]
  },
  {
   "cell_type": "code",
   "execution_count": null,
   "id": "c350552b",
   "metadata": {
    "scrolled": true
   },
   "outputs": [],
   "source": []
  },
  {
   "cell_type": "code",
   "execution_count": null,
   "id": "7e1d3790",
   "metadata": {},
   "outputs": [],
   "source": []
  }
 ],
 "metadata": {
  "kernelspec": {
   "display_name": "Python 3 (ipykernel)",
   "language": "python",
   "name": "python3"
  },
  "language_info": {
   "codemirror_mode": {
    "name": "ipython",
    "version": 3
   },
   "file_extension": ".py",
   "mimetype": "text/x-python",
   "name": "python",
   "nbconvert_exporter": "python",
   "pygments_lexer": "ipython3",
   "version": "3.10.9"
  }
 },
 "nbformat": 4,
 "nbformat_minor": 5
}
